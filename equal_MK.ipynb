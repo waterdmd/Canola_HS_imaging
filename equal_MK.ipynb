{
 "cells": [
  {
   "cell_type": "code",
   "execution_count": null,
   "id": "77b1e768-f0c4-4e3a-849f-f59173a5af7f",
   "metadata": {},
   "outputs": [],
   "source": [
    "import pandas as pd\n",
    "\n",
    "# Load your dataset\n",
    "file_path = 'file_path.csv'  # Replace with your actual file path\n",
    "df = pd.read_csv(file_path)\n",
    "\n",
    "# List of salinity levels\n",
    "salinity_levels = [0, 2, 4, 6, 8, 10]\n",
    "\n",
    "# Create an empty DataFrame to store 250 rows from each salinity level\n",
    "df_sampled = pd.DataFrame()\n",
    "\n",
    "# Loop through each salinity level and take 250 rows\n",
    "for level in salinity_levels:\n",
    "    df_level = df[df['salinity'] == level].sample(n=250, random_state=42)  # Sample 250 rows\n",
    "    df_sampled = pd.concat([df_sampled, df_level], ignore_index=True)\n",
    "\n",
    "# Save the sampled data to a new CSV file\n",
    "df_sampled.to_csv('file_path.csv', index=False)\n",
    "\n",
    "print(\"250 rows from each salinity level have been saved to 'sampled_salinity_data.csv'.\")\n"
   ]
  }
 ],
 "metadata": {
  "kernelspec": {
   "display_name": "Python 3 (ipykernel)",
   "language": "python",
   "name": "python3"
  },
  "language_info": {
   "codemirror_mode": {
    "name": "ipython",
    "version": 3
   },
   "file_extension": ".py",
   "mimetype": "text/x-python",
   "name": "python",
   "nbconvert_exporter": "python",
   "pygments_lexer": "ipython3",
   "version": "3.11.4"
  }
 },
 "nbformat": 4,
 "nbformat_minor": 5
}
