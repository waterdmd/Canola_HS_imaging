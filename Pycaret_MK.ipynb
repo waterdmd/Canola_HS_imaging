{
 "cells": [
  {
   "cell_type": "code",
   "execution_count": null,
   "id": "1fbe8513-2cf8-406e-991f-0e4736d19f78",
   "metadata": {
    "tags": []
   },
   "outputs": [],
   "source": [
    "import pandas as pd\n",
    "from pycaret.classification import setup, compare_models, pull\n",
    "\n",
    "# Load the CSV file\n",
    "file_path = 'file_path.csv'  # Replace with your file path\n",
    "data = pd.read_csv(file_path)\n",
    "\n",
    "# Prepare the data\n",
    "X = data.drop(columns=['variety', 'salinity'])\n",
    "# X = data.drop(columns=['salinity'\n",
    "# ])\n",
    "\n",
    "# , 'ARI','BNDVI','BRI','BWDRVI','CI','CIG','CIRE','CRI550','CRI700','CVI','DD', 'DPI','EVI','ExG','GLI','GBNDVI','GOSAVI','GRNDVI','LCI','MCARI','MGRVI','MRENDVI','MSAVI','NDVI','NDVI_Red_Edge','OSAVI','PSRI','RDVI1','RGBVI','TVI'\n",
    "\n",
    "y = data['salinity']\n",
    "\n",
    "# Combine X and y into a single dataframe for PyCaret\n",
    "data_for_pycaret = pd.concat([X, y], axis=1)\n",
    "\n",
    "# Setup the PyCaret environment\n",
    "clf = setup(data=data_for_pycaret, target='salinity')\n",
    "\n",
    "# Compare models and select the best one\n",
    "best_model = compare_models()\n",
    "\n",
    "# Pull the results\n",
    "results = pull()\n",
    "\n",
    "print(\"Best model:\")\n",
    "print(best_model)\n",
    "print(\"Comparison of all models:\")\n",
    "print(results)"
   ]
  },
  {
   "cell_type": "code",
   "execution_count": null,
   "id": "014adfdc-5401-4092-a709-b34633cb1313",
   "metadata": {},
   "outputs": [],
   "source": []
  }
 ],
 "metadata": {
  "kernelspec": {
   "display_name": "Python 3 (ipykernel)",
   "language": "python",
   "name": "python3"
  },
  "language_info": {
   "codemirror_mode": {
    "name": "ipython",
    "version": 3
   },
   "file_extension": ".py",
   "mimetype": "text/x-python",
   "name": "python",
   "nbconvert_exporter": "python",
   "pygments_lexer": "ipython3",
   "version": "3.11.4"
  }
 },
 "nbformat": 4,
 "nbformat_minor": 5
}
