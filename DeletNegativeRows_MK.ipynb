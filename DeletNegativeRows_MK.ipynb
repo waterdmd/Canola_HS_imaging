{
 "cells": [
  {
   "cell_type": "code",
   "execution_count": 2,
   "id": "b1622d55-505c-4c00-8620-4496284c6834",
   "metadata": {
    "tags": []
   },
   "outputs": [],
   "source": [
    "import pandas as pd\n",
    "\n",
    "# Load the CSV file\n",
    "file_path = 'file_path.csv'  # Replace with your file path\n",
    "df = pd.read_csv(file_path)\n",
    "\n",
    "# Remove rows with any negative values\n",
    "df_cleaned = df[(df >= 0).all(axis=1)]\n",
    "\n",
    "# Save the cleaned DataFrame to a new CSV file\n",
    "output_file_path = 'file_path.csv'  # Replace with your desired output file path\n",
    "df_cleaned.to_csv(output_file_path, index=False)\n",
    "\n",
    "print(\"Rows with negative values have been removed and saved to\", output_file_path)"
   ]
  },
  {
   "cell_type": "code",
   "execution_count": 14,
   "id": "2d0cd8c2-7f84-41b1-8975-b5387c195ace",
   "metadata": {},
   "outputs": [],
   "source": [
    "import pandas as pd\n",
    "import numpy as np\n",
    "\n",
    "# Assuming df is your DataFrame\n",
    "# Replace 'file_path' with the actual path to your CSV file\n",
    "file_path = 'file_path.csv'  # Use your actual file path here\n",
    "df = pd.read_csv(file_path)\n",
    "\n",
    "# Remove rows with any NaN, inf, or -inf values\n",
    "df_cleaned = df.replace([np.inf, -np.inf], np.nan).dropna()\n",
    "\n",
    "# Now df_cleaned will be your DataFrame without rows containing NaN or infinite values\n",
    "df_cleaned.to_csv('file_path.csv', index=False)\n"
   ]
  }
 ],
 "metadata": {
  "kernelspec": {
   "display_name": "Python 3 (ipykernel)",
   "language": "python",
   "name": "python3"
  },
  "language_info": {
   "codemirror_mode": {
    "name": "ipython",
    "version": 3
   },
   "file_extension": ".py",
   "mimetype": "text/x-python",
   "name": "python",
   "nbconvert_exporter": "python",
   "pygments_lexer": "ipython3",
   "version": "3.11.4"
  }
 },
 "nbformat": 4,
 "nbformat_minor": 5
}
